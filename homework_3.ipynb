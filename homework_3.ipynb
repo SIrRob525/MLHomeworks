{
 "cells": [
  {
   "cell_type": "markdown",
   "metadata": {},
   "source": [
    "# Домашняя работа 2. Логистическая регрессия."
   ]
  },
  {
   "cell_type": "markdown",
   "metadata": {},
   "source": [
    "### Оценивание и штрафы\n",
    "\n",
    "Максимальная оценка — 10 баллов. \n",
    "\n",
    "Не списывайте, иначе всем участникам обнулим :)"
   ]
  },
  {
   "cell_type": "markdown",
   "metadata": {},
   "source": [
    "Для удобства проверки самостоятельно посчитайте свою максимальную оценку (исходя из набора решенных задач) и укажите ниже.\n",
    "\n",
    "**Оценка: 10**"
   ]
  },
  {
   "cell_type": "code",
   "execution_count": 3,
   "metadata": {},
   "outputs": [],
   "source": [
    "from __future__ import annotations\n",
    "\n",
    "import numpy as np\n",
    "import pandas as pd\n",
    "import matplotlib.pyplot as plt\n",
    "%matplotlib inline\n",
    "\n",
    "pd.set_option('display.max_rows', 100)\n",
    "pd.set_option('display.max_columns', 100)"
   ]
  },
  {
   "cell_type": "markdown",
   "metadata": {},
   "source": [
    "## Часть 1. Логрег своими руками (5.5 балла)"
   ]
  },
  {
   "cell_type": "markdown",
   "metadata": {},
   "source": [
    "**Задание 1 (8 баллов)**. Реализуйте логистическую регрессию, обучаемую с помощью:\n",
    "- градиентного спуска **(4 балла)**\n",
    "\n",
    "- стохастического градиентного спуска **(4 балла)**\n",
    "\n",
    "Во всех пунктах необходимо соблюдать два условия:\n",
    "- Циклы можно использовать только для итераций градиентного спуска;\n",
    "- В качестве критерия останова необходимо использовать (одновременно):\n",
    "\n",
    "    - проверку на евклидову норму разности весов на двух соседних итерациях (например, меньше некоторого малого числа порядка $10^{-6}$), задаваемого параметром `tolerance`;\n",
    "    - достижение максимального числа итераций (например, 10000), задаваемого параметром `max_iter`.\n",
    "\n",
    "Чтобы проследить, что оптимизационный процесс действительно сходится, добавим атрибут класса `loss_history`. В нём после вызова метода `fit` должны содержаться значения функции потерь для всех итераций градиентного спуска, начиная с нулевой.\n",
    "\n",
    "Инициализировать веса можно случайным образом или нулевым вектором."
   ]
  },
  {
   "cell_type": "markdown",
   "metadata": {},
   "source": [
    "*Комментарий:* Я ввел два дополнительных параметра модели - batch_size и curr_batch_index, чтобы хранить размер батча и индекс его начального элемента. Если `gd_type='full'`, то каждый раз выбирается индекс 0 и вся выборка в качестве размера батча. \n",
    "\n",
    "Функция копирует и перемешивает данные.\n",
    "\n",
    "Формулу градиента выбрал другую (без $1/n$ в начале), чтобы он не зависел от размера выборки, но лосс считается стандартно.\n",
    "\n",
    "Также написал дополнительно функцию `get_loss_hist`\n",
    "\n",
    "В остальном все как обычно."
   ]
  },
  {
   "cell_type": "code",
   "execution_count": 304,
   "metadata": {},
   "outputs": [],
   "source": [
    "from sklearn.base import BaseEstimator\n",
    "from sklearn.utils import shuffle\n",
    "\n",
    "class LogReg(BaseEstimator):\n",
    "    def __init__(self, gd_type: str = 'stochastic', tolerance: float = 1e-4, \n",
    "                 max_iter: int = 1000, eta: float = 1e-2,\n",
    "                 w0: np.array = None, batch_size = None) -> None:\n",
    "        \"\"\"\n",
    "        Args:\n",
    "          gd_type: Type of gradient descent ('full' or 'stochastic'). \n",
    "          \n",
    "          tolerance: Threshold for stopping gradient descent.\n",
    "          \n",
    "          max_iter: Maximum number of steps in gradient descent.\n",
    "          \n",
    "          eta: Learning rate.\n",
    "          \n",
    "          w0: Array of shape d (d — number of weights to optimize).\n",
    "              Initial weights.\n",
    "        \"\"\"\n",
    "        self.gd_type = gd_type\n",
    "        self.tolerance = tolerance\n",
    "        self.max_iter = max_iter\n",
    "        self.eta = eta\n",
    "        self.w0 = w0\n",
    "        self.w = None\n",
    "        self.loss_history = None\n",
    "        self.batch_size = batch_size\n",
    "        self.curr_batch_index = 0\n",
    "    \n",
    "    def fit(self, X: np.array, y: np.array) -> LogReg:\n",
    "        \"\"\"Fit the model on training data. Also, save value of loss after each iteration.\n",
    "        \n",
    "        Args:\n",
    "          X: Training data.\n",
    "          \n",
    "          y: Target.\n",
    "        \n",
    "        Returns: \n",
    "          self: Fitted classsifier.  \n",
    "        \"\"\"\n",
    "        self.loss_history = []\n",
    "        if self.w0 is None: self.w0 = np.ones(X.shape[1]) #if the start is not specified, start at ones\n",
    "        if self.batch_size is None: \n",
    "            if self.gd_type == 'stochastic': self.batch_size = min(X.shape[0], 32)\n",
    "            else: self.batch_size = X.shape[0]\n",
    "\n",
    "        self.w = self.w0\n",
    "        X_, y_ = shuffle(X, y)\n",
    "        self.loss_history.append(self.calc_loss(X, y))\n",
    "\n",
    "        for _ in range(self.max_iter):\n",
    "            \n",
    "            if self.gd_type == 'stochastic':\n",
    "                X_ = X_[self.curr_batch_index : self.curr_batch_index + self.batch_size]\n",
    "                y_ = y_[self.curr_batch_index : self.curr_batch_index + self.batch_size]\n",
    "                self.curr_batch_index += self.batch_size\n",
    "                if self.curr_batch_index + self.batch_size >= X_.shape[0]: self.curr_batch_index = 0\n",
    "                grad = self.calc_gradient(X_, y_)\n",
    "\n",
    "            else: grad = self.calc_gradient(X_, y_)\n",
    "            \n",
    "            self.w -= self.eta * grad\n",
    "            self.loss_history.append(self.calc_loss(X, y))\n",
    "            if np.linalg.norm(self.eta * grad) < self.tolerance:\n",
    "                break\n",
    "        return self\n",
    "    \n",
    "    \n",
    "    def predict_proba(self, X: np.array) -> np.array:\n",
    "        \"\"\"Calculate probability of positive and negative class for each observation.\n",
    "        \n",
    "        Args:\n",
    "          X: Array of shape (n, d).\n",
    "             Data.\n",
    "        \n",
    "        Returns: \n",
    "             Array of shape (n, 2).\n",
    "             Predicted probabilities.\n",
    "        \"\"\"\n",
    "        sigma = lambda x: 1 / (1 + np.e**(-x))\n",
    "        return sigma(X.dot(self.w))\n",
    "    \n",
    "    \n",
    "    def predict(self, X: np.array) -> np.array:\n",
    "        \"\"\"Predict class for each observation.\n",
    "        \n",
    "        Args:\n",
    "          X: Array of shape (n, d).\n",
    "             Data.\n",
    "        \n",
    "        Returns: \n",
    "             Array of shape (n,).\n",
    "             Predicted class labels.  \n",
    "        \"\"\"\n",
    "        sigma = lambda x: 1 / (1 + np.e**(-x))\n",
    "        return (sigma(X.dot(self.w)) > 0.5).astype(int)\n",
    "    \n",
    "    def calc_gradient(self, X: np.array, y: np.array) -> np.array:\n",
    "        \"\"\"Calculate gradient of loss function after each iteration.\n",
    "        \n",
    "        Args:\n",
    "          X: Array of shape (n, d), n can be equal to 1 if 'stochastic'.\n",
    "          y: Array of shape (n,).\n",
    "        \n",
    "        Returns:\n",
    "          Array of shape (d,).\n",
    "          Gradient of loss function after current iteration.\n",
    "        \"\"\"\n",
    "        sigma = lambda x: 1 / (1 + np.e**(-x))\n",
    "        return - 1 / X.shape[0] * (X * (y[:, np.newaxis] - sigma(X.dot(self.w))[:, np.newaxis])).sum(axis=0)\n",
    "\n",
    "    def calc_loss(self, X: np.array, y: np.array) -> float:\n",
    "        \"\"\"Calculate value of loss function after each iteration.\n",
    "        \n",
    "        Args:\n",
    "          X: Array of shape (n, d).\n",
    "          y: Array of shape (n,).\n",
    "        \n",
    "        Returns:\n",
    "          Value of loss function after current iteration.\n",
    "        \"\"\" \n",
    "        sigma = lambda x: 1 / (1 + np.e**(-x))\n",
    "        return - 1 / X.shape[0] * np.sum(y * np.log(sigma(X.dot(self.w))) + (1 - y) * np.log(sigma(-X.dot(self.w))))\n",
    "    \n",
    "    def get_loss_hist(self) -> List[int]:\n",
    "        return self.loss_history"
   ]
  },
  {
   "cell_type": "markdown",
   "metadata": {},
   "source": [
    "Далее предполагается, что вы используете собственную реализацию логистической регрессии.\n",
    "Если с написанием класса возникли проблемы, используйте реализацию sklearn, чтобы не терять баллы за остальные задания.\n",
    "\n",
    "Далее мы бы всем советовали использовать готовые реализации методов из sklearn."
   ]
  },
  {
   "cell_type": "markdown",
   "metadata": {},
   "source": [
    "Сгенерируем синтетические данные."
   ]
  },
  {
   "cell_type": "code",
   "execution_count": 305,
   "metadata": {},
   "outputs": [],
   "source": [
    "from sklearn.datasets import make_classification\n",
    "from sklearn.model_selection import train_test_split\n",
    "\n",
    "X, y = make_classification(\n",
    "    n_samples=10000, n_features=10, n_informative=5, n_redundant=5,\n",
    "    random_state=42)\n",
    "\n",
    "X_train, X_test, y_train, y_test = train_test_split(\n",
    "    X, y, test_size=0.3, random_state=42)"
   ]
  },
  {
   "cell_type": "markdown",
   "metadata": {},
   "source": [
    "**Задание 2 (1 балл).** Обучите логистическую регрессию на синтетических данных. Нарисуйте кривую обучения."
   ]
  },
  {
   "cell_type": "code",
   "execution_count": 306,
   "metadata": {},
   "outputs": [
    {
     "data": {
      "text/plain": [
       "[<matplotlib.lines.Line2D at 0x195b6272750>]"
      ]
     },
     "execution_count": 306,
     "metadata": {},
     "output_type": "execute_result"
    },
    {
     "data": {
      "image/png": "[encoded data removed]",
      "text/plain": [
       "<Figure size 1300x800 with 1 Axes>"
      ]
     },
     "metadata": {},
     "output_type": "display_data"
    }
   ],
   "source": [
    "logreg = LogReg(max_iter=10000, eta=1e-3, gd_type='stochastic', tolerance=1e-4, batch_size=100)\n",
    "logreg.fit(X_train, y_train)\n",
    "\n",
    "fig, ax = plt.subplots(figsize = (13, 8))\n",
    "ax.plot(logreg.get_loss_hist())"
   ]
  },
  {
   "cell_type": "markdown",
   "metadata": {},
   "source": [
    "*Комментарий:* далее я построил матрицу ошибок на своей модели и модели из `sklearn` для сравнения. Оказалось, что модели предсказывают примерно с одинаковой точностью."
   ]
  },
  {
   "cell_type": "code",
   "execution_count": 307,
   "metadata": {},
   "outputs": [
    {
     "name": "stdout",
     "output_type": "stream",
     "text": [
      "[[1200  283]\n",
      " [ 442 1075]]\n"
     ]
    }
   ],
   "source": [
    "from sklearn.metrics import confusion_matrix\n",
    "y_pred = logreg.predict(X_test)\n",
    "print(confusion_matrix(y_test, y_pred))\n",
    "y_pred_proba = logreg.predict_proba(X_test)"
   ]
  },
  {
   "cell_type": "code",
   "execution_count": 308,
   "metadata": {},
   "outputs": [
    {
     "name": "stdout",
     "output_type": "stream",
     "text": [
      "[[1145  338]\n",
      " [ 348 1169]]\n"
     ]
    }
   ],
   "source": [
    "from sklearn.linear_model import LogisticRegression\n",
    "sklogreg = LogisticRegression()\n",
    "sklogreg.fit(X_train, y_train)\n",
    "y_pred = sklogreg.predict(X_test)\n",
    "print(confusion_matrix(y_test, y_pred))"
   ]
  },
  {
   "cell_type": "markdown",
   "metadata": {},
   "source": [
    "На тестовой части посчитайте ROC-AUC, PR-AUC. Постройте ROC и PR кривые."
   ]
  },
  {
   "cell_type": "markdown",
   "metadata": {},
   "source": [
    "*Комментарий:* кривая PR выглядит странно, так как при некоторых значениях параметра `thresholds` `tp` и `fp` становятся 0, в результате чего `precision` присваивается значение 1. Далее `fp` становится положитльным и `precision` обнуляется. А дальше все становится нормально. В статье прочитал, что такой вид графика - это ОК (https://github.com/tensorflow/tensorboard/issues/444)."
   ]
  },
  {
   "cell_type": "code",
   "execution_count": 309,
   "metadata": {},
   "outputs": [
    {
     "name": "stdout",
     "output_type": "stream",
     "text": [
      "ROC UAC: 0.8396789632090522, PR AUC: 0.7792785809178148\n"
     ]
    },
    {
     "data": {
      "text/plain": [
       "[<matplotlib.lines.Line2D at 0x195b289e190>]"
      ]
     },
     "execution_count": 309,
     "metadata": {},
     "output_type": "execute_result"
    },
    {
     "data": {
      "image/png": "[encoded data removed]",
      "text/plain": [
       "<Figure size 2000x800 with 2 Axes>"
      ]
     },
     "metadata": {},
     "output_type": "display_data"
    }
   ],
   "source": [
    "from sklearn.metrics import roc_curve, precision_recall_curve, auc\n",
    "\n",
    "\n",
    "y_score = logreg.predict_proba(X_test)\n",
    "fpr, tpr, _ = roc_curve(y_test, y_score)\n",
    "prec, rec, _ = precision_recall_curve(y_test, y_score)\n",
    "fig, axs = plt.subplots(1, 2, figsize = (20, 8))\n",
    "print(f'ROC UAC: {auc(fpr, tpr)}, PR AUC: {auc(rec, prec)}')\n",
    "axs[0].plot(fpr, tpr)\n",
    "axs[1].plot(rec, prec)"
   ]
  },
  {
   "cell_type": "markdown",
   "metadata": {},
   "source": [
    "**Задание 3 (1 балл).** Оцените ошибку ROC-AUC и PR-AUC вашей модели при помощи K-fold кросс валидации.  "
   ]
  },
  {
   "cell_type": "code",
   "execution_count": 310,
   "metadata": {},
   "outputs": [
    {
     "name": "stdout",
     "output_type": "stream",
     "text": [
      "Mean ROC AUC: 0.8426035231229093, St. Dev. ROC AUC: 0.00483526866988729\n",
      "Mean PR AUC: 0.7973001559501758, St. Dev. PR AUC: 0.012536464792019366\n"
     ]
    }
   ],
   "source": [
    "from sklearn.model_selection import KFold\n",
    "from sklearn.metrics import roc_auc_score, auc, precision_recall_curve\n",
    "\n",
    "\n",
    "roc_auc_scores = []\n",
    "pr_auc_scores = []\n",
    "kf = KFold(n_splits=5)\n",
    "for i, (train_index, test_index) in enumerate(kf.split(X)):\n",
    "    X_train, y_train, X_test, y_test = X[train_index], y[train_index], X[test_index], y[test_index]\n",
    "    logreg.fit(X_train, y_train)\n",
    "    y_score = logreg.predict_proba(X_test)\n",
    "    roc_auc_scores.append(roc_auc_score(y_test, y_score))\n",
    "    prec, rec, threshholds = precision_recall_curve(y_test, y_score)\n",
    "    pr_auc_scores.append(auc(rec, prec))\n",
    "\n",
    "\n",
    "print(f'Mean ROC AUC: {np.mean(roc_auc_scores)}, St. Dev. ROC AUC: {np.std(roc_auc_scores)}')\n",
    "print(f'Mean PR AUC: {np.mean(pr_auc_scores)}, St. Dev. PR AUC: {np.std(pr_auc_scores)}')\n",
    "\n"
   ]
  }
 ],
 "metadata": {
  "kernelspec": {
   "display_name": "Python 3",
   "language": "python",
   "name": "python3"
  },
  "language_info": {
   "codemirror_mode": {
    "name": "ipython",
    "version": 3
   },
   "file_extension": ".py",
   "mimetype": "text/x-python",
   "name": "python",
   "nbconvert_exporter": "python",
   "pygments_lexer": "ipython3",
   "version": "3.11.6"
  }
 },
 "nbformat": 4,
 "nbformat_minor": 4
}
